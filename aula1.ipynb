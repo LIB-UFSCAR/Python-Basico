{
  "nbformat": 4,
  "nbformat_minor": 0,
  "metadata": {
    "colab": {
      "name": "aula1.ipynb",
      "provenance": [],
      "authorship_tag": "ABX9TyNzFZ2I/w/fbyT/zHDU5C1q",
      "include_colab_link": true
    },
    "kernelspec": {
      "name": "python3",
      "display_name": "Python 3"
    }
  },
  "cells": [
    {
      "cell_type": "markdown",
      "metadata": {
        "id": "view-in-github",
        "colab_type": "text"
      },
      "source": [
        "<a href=\"https://colab.research.google.com/github/julianafalves/Python-Basico/blob/add-juliana/aula1.ipynb\" target=\"_parent\"><img src=\"https://colab.research.google.com/assets/colab-badge.svg\" alt=\"Open In Colab\"/></a>"
      ]
    },
    {
      "cell_type": "markdown",
      "metadata": {
        "id": "mMWHkOBYcyZ2",
        "colab_type": "text"
      },
      "source": [
        "# Conhecendo váriaveis"
      ]
    },
    {
      "cell_type": "code",
      "metadata": {
        "id": "rE99MA-HtVHc",
        "colab_type": "code",
        "colab": {
          "base_uri": "https://localhost:8080/",
          "height": 34
        },
        "outputId": "5ed6dfa5-e06a-4773-d314-4b32f78ae6a5"
      },
      "source": [
        "x = 10 # variavel int\n",
        "y = 8.5 #variavel float\n",
        "z = \"oioi\" #variavel string\n",
        "\n",
        "type(x) #função que verifica tipo da variável"
      ],
      "execution_count": null,
      "outputs": [
        {
          "output_type": "execute_result",
          "data": {
            "text/plain": [
              "int"
            ]
          },
          "metadata": {
            "tags": []
          },
          "execution_count": 7
        }
      ]
    },
    {
      "cell_type": "markdown",
      "metadata": {
        "id": "ZwOlzHe4dSh0",
        "colab_type": "text"
      },
      "source": [
        "Operações matematicas"
      ]
    },
    {
      "cell_type": "code",
      "metadata": {
        "id": "56-Oa2O_ti4K",
        "colab_type": "code",
        "colab": {
          "base_uri": "https://localhost:8080/",
          "height": 34
        },
        "outputId": "29404b9d-82d0-4f3b-9fc0-e8e85ccace14"
      },
      "source": [
        "var1 = 5\n",
        "var2 = 2\n",
        "print (var1 + var2)"
      ],
      "execution_count": null,
      "outputs": [
        {
          "output_type": "execute_result",
          "data": {
            "text/plain": [
              "1"
            ]
          },
          "metadata": {
            "tags": []
          },
          "execution_count": 10
        }
      ]
    },
    {
      "cell_type": "code",
      "metadata": {
        "id": "rrn122SSdiUW",
        "colab_type": "code",
        "colab": {}
      },
      "source": [
        "print (var1 / var2)\n"
      ],
      "execution_count": null,
      "outputs": []
    },
    {
      "cell_type": "code",
      "metadata": {
        "id": "-CWb2dlcdj1g",
        "colab_type": "code",
        "colab": {}
      },
      "source": [
        "print (var1 % var2)"
      ],
      "execution_count": null,
      "outputs": []
    },
    {
      "cell_type": "markdown",
      "metadata": {
        "id": "Evc-xKD8dmFJ",
        "colab_type": "text"
      },
      "source": [
        "Operações Lógicas"
      ]
    },
    {
      "cell_type": "code",
      "metadata": {
        "id": "cenvUl6BvzM3",
        "colab_type": "code",
        "colab": {
          "base_uri": "https://localhost:8080/",
          "height": 34
        },
        "outputId": "a8a81118-85b5-4a55-ab6d-650362aef698"
      },
      "source": [
        "idade_idoso = 70\n",
        "idade_crianca = 5\n",
        "idade_idoso > idade_crianca"
      ],
      "execution_count": null,
      "outputs": [
        {
          "output_type": "execute_result",
          "data": {
            "text/plain": [
              "True"
            ]
          },
          "metadata": {
            "tags": []
          },
          "execution_count": 11
        }
      ]
    },
    {
      "cell_type": "code",
      "metadata": {
        "id": "H6j-0OvkwB1v",
        "colab_type": "code",
        "colab": {
          "base_uri": "https://localhost:8080/",
          "height": 34
        },
        "outputId": "ea9fe505-fed3-40e2-b562-301b6084da7a"
      },
      "source": [
        "idade_idoso = idade_crianca\n",
        "print(idade_idoso)"
      ],
      "execution_count": null,
      "outputs": [
        {
          "output_type": "stream",
          "text": [
            "5\n"
          ],
          "name": "stdout"
        }
      ]
    },
    {
      "cell_type": "code",
      "metadata": {
        "id": "az-Xtj-ZxWzu",
        "colab_type": "code",
        "colab": {
          "base_uri": "https://localhost:8080/",
          "height": 34
        },
        "outputId": "d89d6616-e2c4-494c-84ec-83e3a47aa584"
      },
      "source": [
        "'''x =  b + 10\n",
        "print(x)'''"
      ],
      "execution_count": null,
      "outputs": [
        {
          "output_type": "stream",
          "text": [
            "10\n"
          ],
          "name": "stdout"
        }
      ]
    },
    {
      "cell_type": "code",
      "metadata": {
        "id": "2FiJYwdKzX9c",
        "colab_type": "code",
        "colab": {
          "base_uri": "https://localhost:8080/",
          "height": 34
        },
        "outputId": "c09c0c20-f383-4285-9c31-557a5200f72e"
      },
      "source": [
        "127/4.53 > 983*0.675\n",
        "\n",
        "#booleano"
      ],
      "execution_count": null,
      "outputs": [
        {
          "output_type": "execute_result",
          "data": {
            "text/plain": [
              "False"
            ]
          },
          "metadata": {
            "tags": []
          },
          "execution_count": 19
        }
      ]
    },
    {
      "cell_type": "code",
      "metadata": {
        "id": "w795vyu-z29i",
        "colab_type": "code",
        "colab": {
          "base_uri": "https://localhost:8080/",
          "height": 34
        },
        "outputId": "95d0e92f-99aa-4d21-f936-8c01000a0160"
      },
      "source": [
        "2**2 + 16 ** 0.5"
      ],
      "execution_count": null,
      "outputs": [
        {
          "output_type": "execute_result",
          "data": {
            "text/plain": [
              "8.0"
            ]
          },
          "metadata": {
            "tags": []
          },
          "execution_count": 20
        }
      ]
    },
    {
      "cell_type": "markdown",
      "metadata": {
        "id": "LicWM8X9dr2Q",
        "colab_type": "text"
      },
      "source": [
        "# Manipulando strings"
      ]
    },
    {
      "cell_type": "code",
      "metadata": {
        "id": "y4e42rpa0xm0",
        "colab_type": "code",
        "colab": {
          "base_uri": "https://localhost:8080/",
          "height": 34
        },
        "outputId": "8ab5bb8b-906d-4862-fd5b-5b1648fe3db8"
      },
      "source": [
        "string = 'virus'\n",
        "print(string[2:4])"
      ],
      "execution_count": null,
      "outputs": [
        {
          "output_type": "stream",
          "text": [
            "ru\n"
          ],
          "name": "stdout"
        }
      ]
    },
    {
      "cell_type": "code",
      "metadata": {
        "id": "VQt0wINd1NZk",
        "colab_type": "code",
        "colab": {
          "base_uri": "https://localhost:8080/",
          "height": 34
        },
        "outputId": "3264109f-7f98-4bcd-fe31-cc37c8dd34d3"
      },
      "source": [
        "string2 = \"\"\n",
        "type(string2)"
      ],
      "execution_count": null,
      "outputs": [
        {
          "output_type": "execute_result",
          "data": {
            "text/plain": [
              "str"
            ]
          },
          "metadata": {
            "tags": []
          },
          "execution_count": 26
        }
      ]
    },
    {
      "cell_type": "code",
      "metadata": {
        "id": "x-GIt1o83BId",
        "colab_type": "code",
        "colab": {
          "base_uri": "https://localhost:8080/",
          "height": 34
        },
        "outputId": "67c80f2b-68e1-473a-85fb-26988483971b"
      },
      "source": [
        "grupo = \"LIB\"\n",
        "excla = \"!\"\n",
        "print(grupo + excla*3)"
      ],
      "execution_count": null,
      "outputs": [
        {
          "output_type": "stream",
          "text": [
            "LIB!!!\n"
          ],
          "name": "stdout"
        }
      ]
    },
    {
      "cell_type": "code",
      "metadata": {
        "id": "2OKsJCTj3bz9",
        "colab_type": "code",
        "colab": {
          "base_uri": "https://localhost:8080/",
          "height": 34
        },
        "outputId": "02adef7c-3a01-43a3-b1be-a5030ca4228f"
      },
      "source": [
        "primeiro = int(input(\"Digite a pontuação do primeiro par \")) #input é função que recebe dados do usuário ++Pesquise sobre"
      ],
      "execution_count": null,
      "outputs": [
        {
          "output_type": "stream",
          "text": [
            "Digite a pontuação do primeiro par -4\n"
          ],
          "name": "stdout"
        }
      ]
    }
  ]
}